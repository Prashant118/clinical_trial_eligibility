{
 "cells": [
  {
   "cell_type": "markdown",
   "metadata": {},
   "source": [
    "# Connect to the AACT clinical trials database from local machine"
   ]
  },
  {
   "cell_type": "markdown",
   "metadata": {},
   "source": [
    "## Import packages "
   ]
  },
  {
   "cell_type": "code",
   "execution_count": 24,
   "metadata": {},
   "outputs": [],
   "source": [
    "import psycopg2 as pg\n",
    "import pandas as pd\n",
    "import pandas.io.sql as pd_sql\n",
    "import pandas as pd"
   ]
  },
  {
   "cell_type": "markdown",
   "metadata": {},
   "source": [
    "## Input AACT connection arguments "
   ]
  },
  {
   "cell_type": "markdown",
   "metadata": {},
   "source": [
    "###### Refactor the login code. Is there a better way to get a text file or other file in with the login credentials?  Can I make the entire connection process a function?"
   ]
  },
  {
   "cell_type": "code",
   "execution_count": 54,
   "metadata": {},
   "outputs": [],
   "source": [
    "login = pd.read_csv('login.csv', header=None)\n",
    "user = login.iloc[0,0]\n",
    "password = login.iloc[0,1]"
   ]
  },
  {
   "cell_type": "code",
   "execution_count": 56,
   "metadata": {},
   "outputs": [],
   "source": [
    "connection_args = {'host': 'aact-db.ctti-clinicaltrials.org', \n",
    "                   'user': user, \n",
    "                   'password': password, \n",
    "                   'dbname': 'aact',\n",
    "                   'port': 5432}"
   ]
  },
  {
   "cell_type": "code",
   "execution_count": 57,
   "metadata": {},
   "outputs": [],
   "source": [
    "connection = pg.connect(**connection_args)"
   ]
  },
  {
   "cell_type": "code",
   "execution_count": 59,
   "metadata": {},
   "outputs": [
    {
     "data": {
      "text/html": [
       "<div>\n",
       "<style scoped>\n",
       "    .dataframe tbody tr th:only-of-type {\n",
       "        vertical-align: middle;\n",
       "    }\n",
       "\n",
       "    .dataframe tbody tr th {\n",
       "        vertical-align: top;\n",
       "    }\n",
       "\n",
       "    .dataframe thead th {\n",
       "        text-align: right;\n",
       "    }\n",
       "</style>\n",
       "<table border=\"1\" class=\"dataframe\">\n",
       "  <thead>\n",
       "    <tr style=\"text-align: right;\">\n",
       "      <th></th>\n",
       "      <th>id</th>\n",
       "      <th>nct_id</th>\n",
       "      <th>sampling_method</th>\n",
       "      <th>gender</th>\n",
       "      <th>minimum_age</th>\n",
       "      <th>maximum_age</th>\n",
       "      <th>healthy_volunteers</th>\n",
       "      <th>population</th>\n",
       "      <th>criteria</th>\n",
       "      <th>gender_description</th>\n",
       "      <th>gender_based</th>\n",
       "    </tr>\n",
       "  </thead>\n",
       "  <tbody>\n",
       "    <tr>\n",
       "      <th>0</th>\n",
       "      <td>1414485</td>\n",
       "      <td>NCT02247973</td>\n",
       "      <td></td>\n",
       "      <td>All</td>\n",
       "      <td>14 Years</td>\n",
       "      <td>50 Years</td>\n",
       "      <td>No</td>\n",
       "      <td></td>\n",
       "      <td>\\n        Inclusion Criteria:\\n\\n          1. ...</td>\n",
       "      <td></td>\n",
       "      <td>None</td>\n",
       "    </tr>\n",
       "    <tr>\n",
       "      <th>1</th>\n",
       "      <td>1414486</td>\n",
       "      <td>NCT02247960</td>\n",
       "      <td></td>\n",
       "      <td>Male</td>\n",
       "      <td>18 Years</td>\n",
       "      <td>N/A</td>\n",
       "      <td>No</td>\n",
       "      <td></td>\n",
       "      <td>\\n        Inclusion Criteria:\\n\\n          -  ...</td>\n",
       "      <td></td>\n",
       "      <td>None</td>\n",
       "    </tr>\n",
       "    <tr>\n",
       "      <th>2</th>\n",
       "      <td>1414487</td>\n",
       "      <td>NCT02247947</td>\n",
       "      <td>Probability Sample</td>\n",
       "      <td>All</td>\n",
       "      <td>18 Years</td>\n",
       "      <td>N/A</td>\n",
       "      <td>No</td>\n",
       "      <td>patients with cardiac arrest of non-trauma origin</td>\n",
       "      <td>\\n        Inclusion Criteria:\\n\\n          -  ...</td>\n",
       "      <td></td>\n",
       "      <td>None</td>\n",
       "    </tr>\n",
       "  </tbody>\n",
       "</table>\n",
       "</div>"
      ],
      "text/plain": [
       "        id       nct_id     sampling_method gender minimum_age maximum_age  \\\n",
       "0  1414485  NCT02247973                        All    14 Years    50 Years   \n",
       "1  1414486  NCT02247960                       Male    18 Years         N/A   \n",
       "2  1414487  NCT02247947  Probability Sample    All    18 Years         N/A   \n",
       "\n",
       "  healthy_volunteers                                         population  \\\n",
       "0                 No                                                      \n",
       "1                 No                                                      \n",
       "2                 No  patients with cardiac arrest of non-trauma origin   \n",
       "\n",
       "                                            criteria gender_description  \\\n",
       "0  \\n        Inclusion Criteria:\\n\\n          1. ...                      \n",
       "1  \\n        Inclusion Criteria:\\n\\n          -  ...                      \n",
       "2  \\n        Inclusion Criteria:\\n\\n          -  ...                      \n",
       "\n",
       "  gender_based  \n",
       "0         None  \n",
       "1         None  \n",
       "2         None  "
      ]
     },
     "execution_count": 59,
     "metadata": {},
     "output_type": "execute_result"
    }
   ],
   "source": [
    "query = \"SELECT * FROM eligibilities LIMIT 3;\"\n",
    "\n",
    "pd_sql.read_sql(query, connection)"
   ]
  },
  {
   "cell_type": "code",
   "execution_count": 60,
   "metadata": {},
   "outputs": [],
   "source": [
    "connection.close()"
   ]
  }
 ],
 "metadata": {
  "kernelspec": {
   "display_name": "Python [default]",
   "language": "python",
   "name": "python3"
  },
  "language_info": {
   "codemirror_mode": {
    "name": "ipython",
    "version": 3
   },
   "file_extension": ".py",
   "mimetype": "text/x-python",
   "name": "python",
   "nbconvert_exporter": "python",
   "pygments_lexer": "ipython3",
   "version": "3.6.5"
  }
 },
 "nbformat": 4,
 "nbformat_minor": 2
}

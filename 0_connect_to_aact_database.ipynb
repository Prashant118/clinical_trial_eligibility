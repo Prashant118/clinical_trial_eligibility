{
 "cells": [
  {
   "cell_type": "markdown",
   "metadata": {},
   "source": [
    "# Connect to the AACT clinical trials database from local machine"
   ]
  },
  {
   "cell_type": "markdown",
   "metadata": {},
   "source": [
    "## Import packages "
   ]
  },
  {
   "cell_type": "code",
   "execution_count": 209,
   "metadata": {},
   "outputs": [],
   "source": [
    "import psycopg2 as pg\n",
    "import pandas as pd\n",
    "import pandas.io.sql as pd_sql\n",
    "import pandas as pd\n",
    "import pickle\n",
    "import re\n",
    "import json\n",
    "from pymongo import MongoClient"
   ]
  },
  {
   "cell_type": "markdown",
   "metadata": {},
   "source": [
    "## Input AACT connection arguments "
   ]
  },
  {
   "cell_type": "markdown",
   "metadata": {},
   "source": [
    "###### Refactor the login code. Is there a better way to get a text file or other file in with the login credentials?  Can I make the entire connection process a function?"
   ]
  },
  {
   "cell_type": "code",
   "execution_count": 193,
   "metadata": {},
   "outputs": [],
   "source": [
    "login = pd.read_csv('login.csv', header=None)\n",
    "user = login.iloc[0,0]\n",
    "password = login.iloc[0,1]"
   ]
  },
  {
   "cell_type": "code",
   "execution_count": 194,
   "metadata": {},
   "outputs": [],
   "source": [
    "connection_args = {'host': 'aact-db.ctti-clinicaltrials.org', \n",
    "                   'user': user, \n",
    "                   'password': password, \n",
    "                   'dbname': 'aact',\n",
    "                   'port': 5432}"
   ]
  },
  {
   "cell_type": "markdown",
   "metadata": {},
   "source": [
    "## Connect to AACT database "
   ]
  },
  {
   "cell_type": "code",
   "execution_count": 176,
   "metadata": {},
   "outputs": [],
   "source": [
    "connection = pg.connect(**connection_args)"
   ]
  },
  {
   "cell_type": "markdown",
   "metadata": {},
   "source": [
    "## Execute queries for eligibility criteria"
   ]
  },
  {
   "cell_type": "markdown",
   "metadata": {},
   "source": [
    "### Eligibility criteria: inclusion and exclusion criteria"
   ]
  },
  {
   "cell_type": "code",
   "execution_count": 182,
   "metadata": {},
   "outputs": [],
   "source": [
    "query = \"SELECT * FROM eligibilities LIMIT 1;\"\n",
    "\n",
    "data = pd_sql.read_sql(query, connection)"
   ]
  },
  {
   "cell_type": "code",
   "execution_count": 184,
   "metadata": {},
   "outputs": [
    {
     "name": "stdout",
     "output_type": "stream",
     "text": [
      "        id       nct_id sampling_method gender minimum_age maximum_age  \\\n",
      "0  1573978  NCT00147654                   Male    40 Years         N/A   \n",
      "\n",
      "  healthy_volunteers population  \\\n",
      "0                 No              \n",
      "\n",
      "                                            criteria gender_description  \\\n",
      "0  \\n        Inclusion Criteria:\\n\\n          -  ...                      \n",
      "\n",
      "  gender_based  \n",
      "0         None  \n"
     ]
    }
   ],
   "source": [
    "print(data)"
   ]
  },
  {
   "cell_type": "code",
   "execution_count": 14,
   "metadata": {},
   "outputs": [],
   "source": [
    "data.to_pickle(\"test_data.pkl\")"
   ]
  },
  {
   "cell_type": "code",
   "execution_count": 15,
   "metadata": {},
   "outputs": [],
   "source": [
    "# test_load = pd.read_pickle(\"test_data.pkl\")\n",
    "# test_load"
   ]
  },
  {
   "cell_type": "code",
   "execution_count": 17,
   "metadata": {},
   "outputs": [
    {
     "data": {
      "text/html": [
       "<div>\n",
       "<style scoped>\n",
       "    .dataframe tbody tr th:only-of-type {\n",
       "        vertical-align: middle;\n",
       "    }\n",
       "\n",
       "    .dataframe tbody tr th {\n",
       "        vertical-align: top;\n",
       "    }\n",
       "\n",
       "    .dataframe thead th {\n",
       "        text-align: right;\n",
       "    }\n",
       "</style>\n",
       "<table border=\"1\" class=\"dataframe\">\n",
       "  <thead>\n",
       "    <tr style=\"text-align: right;\">\n",
       "      <th></th>\n",
       "      <th>id</th>\n",
       "      <th>nct_id</th>\n",
       "      <th>sampling_method</th>\n",
       "      <th>gender</th>\n",
       "      <th>minimum_age</th>\n",
       "      <th>maximum_age</th>\n",
       "      <th>healthy_volunteers</th>\n",
       "      <th>population</th>\n",
       "      <th>criteria</th>\n",
       "      <th>gender_description</th>\n",
       "      <th>gender_based</th>\n",
       "    </tr>\n",
       "  </thead>\n",
       "  <tbody>\n",
       "    <tr>\n",
       "      <th>0</th>\n",
       "      <td>1472568</td>\n",
       "      <td>NCT01488188</td>\n",
       "      <td></td>\n",
       "      <td>All</td>\n",
       "      <td>20 Years</td>\n",
       "      <td>49 Years</td>\n",
       "      <td>Accepts Healthy Volunteers</td>\n",
       "      <td></td>\n",
       "      <td>\\n        Inclusion Criteria:\\n\\n          -  ...</td>\n",
       "      <td></td>\n",
       "      <td>None</td>\n",
       "    </tr>\n",
       "    <tr>\n",
       "      <th>1</th>\n",
       "      <td>1472569</td>\n",
       "      <td>NCT01488175</td>\n",
       "      <td></td>\n",
       "      <td>All</td>\n",
       "      <td>18 Years</td>\n",
       "      <td>90 Years</td>\n",
       "      <td>No</td>\n",
       "      <td></td>\n",
       "      <td>\\n        Inclusion Criteria:\\n\\n          -  ...</td>\n",
       "      <td></td>\n",
       "      <td>None</td>\n",
       "    </tr>\n",
       "    <tr>\n",
       "      <th>2</th>\n",
       "      <td>1472570</td>\n",
       "      <td>NCT01488162</td>\n",
       "      <td>Probability Sample</td>\n",
       "      <td>All</td>\n",
       "      <td>18 Years</td>\n",
       "      <td>N/A</td>\n",
       "      <td>No</td>\n",
       "      <td>Adult patients with relapsing or refractory ch...</td>\n",
       "      <td>\\n        Inclusion Criteria:\\n\\n          -  ...</td>\n",
       "      <td></td>\n",
       "      <td>None</td>\n",
       "    </tr>\n",
       "  </tbody>\n",
       "</table>\n",
       "</div>"
      ],
      "text/plain": [
       "        id       nct_id     sampling_method gender minimum_age maximum_age  \\\n",
       "0  1472568  NCT01488188                        All    20 Years    49 Years   \n",
       "1  1472569  NCT01488175                        All    18 Years    90 Years   \n",
       "2  1472570  NCT01488162  Probability Sample    All    18 Years         N/A   \n",
       "\n",
       "           healthy_volunteers  \\\n",
       "0  Accepts Healthy Volunteers   \n",
       "1                          No   \n",
       "2                          No   \n",
       "\n",
       "                                          population  \\\n",
       "0                                                      \n",
       "1                                                      \n",
       "2  Adult patients with relapsing or refractory ch...   \n",
       "\n",
       "                                            criteria gender_description  \\\n",
       "0  \\n        Inclusion Criteria:\\n\\n          -  ...                      \n",
       "1  \\n        Inclusion Criteria:\\n\\n          -  ...                      \n",
       "2  \\n        Inclusion Criteria:\\n\\n          -  ...                      \n",
       "\n",
       "  gender_based  \n",
       "0         None  \n",
       "1         None  \n",
       "2         None  "
      ]
     },
     "execution_count": 17,
     "metadata": {},
     "output_type": "execute_result"
    }
   ],
   "source": [
    "data"
   ]
  },
  {
   "cell_type": "markdown",
   "metadata": {},
   "source": [
    "## Create a dictionary for each study to load into MongoDB "
   ]
  },
  {
   "cell_type": "markdown",
   "metadata": {},
   "source": [
    "### Get a single record and create an empty dictionary "
   ]
  },
  {
   "cell_type": "code",
   "execution_count": 100,
   "metadata": {},
   "outputs": [
    {
     "name": "stdout",
     "output_type": "stream",
     "text": [
      "\n",
      "        Inclusion Criteria:\n",
      "\n",
      "          -  clinical diagnosis og osteoarthritis of the knee\n",
      "\n",
      "          -  patients must be 18 years or older\n",
      "\n",
      "          -  patients must understand and speak danish\n",
      "\n",
      "          -  must be able to give signed consent\n",
      "\n",
      "        Exclusion Criteria:\n",
      "\n",
      "          -  severe medical illness\n",
      "\n",
      "          -  documented osteoporosis\n",
      "\n",
      "          -  rheumatoid arthritis\n",
      "\n",
      "          -  prior surgery in the knee\n",
      "\n",
      "          -  neuropathy\n",
      "      \n"
     ]
    }
   ],
   "source": [
    "study_id = data.nct_id[1]\n",
    "eligibility = data.criteria[1]\n",
    "print(eligibility)"
   ]
  },
  {
   "cell_type": "code",
   "execution_count": 123,
   "metadata": {},
   "outputs": [],
   "source": [
    "document = {}\n",
    "document['study_id'] = study_id\n",
    "document['minimum_age'] = data.minimum_age[0]\n",
    "document['maximum_age'] = data.maximum_age[0]\n",
    "document['gender'] = data.gender[0]"
   ]
  },
  {
   "cell_type": "markdown",
   "metadata": {},
   "source": [
    "### Split inclusion and exclusion criteria "
   ]
  },
  {
   "cell_type": "markdown",
   "metadata": {},
   "source": [
    "##### Add a test to see if Inclusion and Exclusion criteria are included in every study - some studies lack exclusion criteria and only have inclusion "
   ]
  },
  {
   "cell_type": "code",
   "execution_count": 101,
   "metadata": {},
   "outputs": [
    {
     "data": {
      "text/plain": [
       "'\\n        Inclusion Criteria:\\n\\n          -  clinical diagnosis og osteoarthritis of the knee\\n\\n          -  patients must be 18 years or older\\n\\n          -  patients must understand and speak danish\\n\\n          -  must be able to give signed consent\\n\\n        '"
      ]
     },
     "execution_count": 101,
     "metadata": {},
     "output_type": "execute_result"
    }
   ],
   "source": [
    "inclusion, exclusion = eligibility.split('Exclusion Criteria:')\n",
    "inclusion"
   ]
  },
  {
   "cell_type": "markdown",
   "metadata": {},
   "source": [
    "### Find inclusion criteria "
   ]
  },
  {
   "cell_type": "code",
   "execution_count": 106,
   "metadata": {},
   "outputs": [
    {
     "data": {
      "text/plain": [
       "{'study_id': 'NCT01488175',\n",
       " 'inclusion_criteria': ['clinical diagnosis og osteoarthritis of the knee',\n",
       "  'patients must be 18 years or older',\n",
       "  'patients must understand and speak danish',\n",
       "  'must be able to give signed consent'],\n",
       " 'exclusion_criteria': ['severe medical illness',\n",
       "  'documented osteoporosis',\n",
       "  'rheumatoid arthritis',\n",
       "  'prior surgery in the knee']}"
      ]
     },
     "execution_count": 106,
     "metadata": {},
     "output_type": "execute_result"
    }
   ],
   "source": [
    "regex = '-\\s\\s(.+)\\n\\n'\n",
    "inclusion_criteria = re.findall(regex, inclusion)\n",
    "document['inclusion_criteria'] = inclusion_criteria\n",
    "document"
   ]
  },
  {
   "cell_type": "markdown",
   "metadata": {},
   "source": [
    "### Find exclusion criteria "
   ]
  },
  {
   "cell_type": "code",
   "execution_count": 105,
   "metadata": {},
   "outputs": [
    {
     "data": {
      "text/plain": [
       "{'study_id': 'NCT01488175',\n",
       " 'inclusion_criteria': ['clinical diagnosis og osteoarthritis of the knee',\n",
       "  'patients must be 18 years or older',\n",
       "  'patients must understand and speak danish',\n",
       "  'must be able to give signed consent'],\n",
       " 'exclusion_criteria': ['severe medical illness',\n",
       "  'documented osteoporosis',\n",
       "  'rheumatoid arthritis',\n",
       "  'prior surgery in the knee']}"
      ]
     },
     "execution_count": 105,
     "metadata": {},
     "output_type": "execute_result"
    }
   ],
   "source": [
    "regex = '-\\s\\s(.+)\\n\\n'\n",
    "exclusion_criteria = re.findall(regex, exclusion)\n",
    "document['exclusion_criteria'] = exclusion_criteria\n",
    "document"
   ]
  },
  {
   "cell_type": "markdown",
   "metadata": {},
   "source": [
    "### Function to create a dictionary record from a SQL query "
   ]
  },
  {
   "cell_type": "code",
   "execution_count": 177,
   "metadata": {},
   "outputs": [],
   "source": [
    "def create_document(record):\n",
    "    document = {}\n",
    "    document['study_id'] = record.nct_id[0]\n",
    "    document['minimum_age'] = record.minimum_age[0]\n",
    "    document['maximum_age'] = record.maximum_age[0]\n",
    "    document['gender'] = record.gender[0]\n",
    "    \n",
    "    # need to test if there is 'Exclusion Criteria:' in the dataset\n",
    "    eligibility = record.criteria[0]\n",
    "    eligibility = eligibility.replace('\\n             ', ' ') \n",
    "    inclusion, exclusion = eligibility.split('Exclusion Criteria:')\n",
    "    regex = '-\\s\\s(.+)\\n\\n'\n",
    "    clean_inclusion = re.findall(regex, inclusion)\n",
    "    clean_exclusion = re.findall(regex, exclusion)\n",
    "    document['inclusion_criteria'] = clean_inclusion\n",
    "    document['exclusion_criteria'] = clean_exclusion\n",
    "    return document"
   ]
  },
  {
   "cell_type": "markdown",
   "metadata": {},
   "source": [
    "## Create a cursor and iterate through queries"
   ]
  },
  {
   "cell_type": "markdown",
   "metadata": {},
   "source": [
    "### Update create document for SQL cursor queries"
   ]
  },
  {
   "cell_type": "markdown",
   "metadata": {},
   "source": [
    "The SQL cursor returns a tuple, so we must update the indexing for tuples, instead of dataframes with labeled columns"
   ]
  },
  {
   "cell_type": "code",
   "execution_count": 206,
   "metadata": {},
   "outputs": [],
   "source": [
    "def clean_record(record):\n",
    "    \n",
    "    \"\"\"Takes an AACT database read from an SQL cursor and produces a dictionary. \n",
    "    Removes new lines and extra spaces from eligibility criteria. \n",
    "    Returns a dictionary in document form to be sent to mongodb.\"\"\"\n",
    "    \n",
    "    document = {}\n",
    "    document['study_id'] = record[1]\n",
    "    document['minimum_age'] = record[4]\n",
    "    document['maximum_age'] = record[5]\n",
    "    document['gender'] = record[3]\n",
    "    \n",
    "    eligibility = record[8]\n",
    "    eligibility = eligibility.replace('\\n             ', ' ') \n",
    "    # need to test if there is 'Exclusion Criteria:' in the dataset\n",
    "    inclusion, exclusion = eligibility.split('Exclusion Criteria:')\n",
    "    regex = '-\\s\\s(.+)\\n\\n'\n",
    "    clean_inclusion = re.findall(regex, inclusion)\n",
    "    clean_exclusion = re.findall(regex, exclusion)\n",
    "    document['inclusion_criteria'] = clean_inclusion\n",
    "    document['exclusion_criteria'] = clean_exclusion\n",
    "    return document"
   ]
  },
  {
   "cell_type": "code",
   "execution_count": null,
   "metadata": {},
   "outputs": [],
   "source": [
    "def send_to_mongodb(document, database, collection):\n",
    "    \n",
    "    \"\"\"Takes a dictionary in document form and sends it to the specified database and collection in mongodb.\"\"\"\n",
    "    \n",
    "    # Create an error message if there is no database or collection specified \n",
    "    client = MongoClient() # Connect to/close mongo outside function?\n",
    "    db = client.database # can I use variable like this? Can test that...\n",
    "    eligibility_criteria = db.eligibility  \n",
    "    db.eligibility.insertOne(document)\n",
    "    client.close()"
   ]
  },
  {
   "cell_type": "code",
   "execution_count": 195,
   "metadata": {},
   "outputs": [],
   "source": [
    "connection = pg.connect(**connection_args)\n",
    "cursor = connection.cursor()"
   ]
  },
  {
   "cell_type": "code",
   "execution_count": null,
   "metadata": {},
   "outputs": [],
   "source": [
    "# Function (SQL_query, data_cleaner_function, send_to_mongo):\n",
    "    # connect to database\n",
    "    # cursor.execute(SQL_query)\n",
    "    # for result in cursor:\n",
    "        # document = data_cleaner_function(result)\n",
    "        # send_to_mongo(document)\n",
    "        \n",
    "        \n",
    "# where to send in mongo: clinical_trials, collection = "
   ]
  },
  {
   "cell_type": "code",
   "execution_count": null,
   "metadata": {},
   "outputs": [],
   "source": [
    "def sql_to_mongo(query, ):"
   ]
  },
  {
   "cell_type": "code",
   "execution_count": 208,
   "metadata": {},
   "outputs": [
    {
     "name": "stdout",
     "output_type": "stream",
     "text": [
      "{'study_id': 'NCT02554435', 'minimum_age': '55 Years', 'maximum_age': '74 Years', 'gender': 'All', 'inclusion_criteria': ['physically inactive (less than 60 minutes per week)', 'BMI between 25-35', 'in good health measured by Par-Q+', 'access to a smart phone'], 'exclusion_criteria': ['physical activity is inadvisable by their doctor', 'involved in another physical activity intervention within the past 6 months', 'used an activity monitor in the past 6 months', 'unwilling to travel for scheduled visits', 'currently taking medications that affect body composition', 'current smoker', 'report alcohol or drug problem', 'institutionalized for psychiatric illness within the last year']}\n"
     ]
    }
   ],
   "source": [
    "# function that takes query, data cleaning function, specifications for where to go in mongo (collection to go to in mongo)\n",
    "\n",
    "query = \"SELECT * FROM eligibilities LIMIT 1;\"\n",
    "cursor.execute(query)\n",
    "\n",
    "for result in cursor:\n",
    "    print(clean_document(result))"
   ]
  },
  {
   "cell_type": "markdown",
   "metadata": {},
   "source": [
    "## Close connection to AACT "
   ]
  },
  {
   "cell_type": "code",
   "execution_count": 118,
   "metadata": {},
   "outputs": [],
   "source": [
    "connection.close()"
   ]
  }
 ],
 "metadata": {
  "kernelspec": {
   "display_name": "Python [default]",
   "language": "python",
   "name": "python3"
  },
  "language_info": {
   "codemirror_mode": {
    "name": "ipython",
    "version": 3
   },
   "file_extension": ".py",
   "mimetype": "text/x-python",
   "name": "python",
   "nbconvert_exporter": "python",
   "pygments_lexer": "ipython3",
   "version": "3.6.5"
  }
 },
 "nbformat": 4,
 "nbformat_minor": 2
}

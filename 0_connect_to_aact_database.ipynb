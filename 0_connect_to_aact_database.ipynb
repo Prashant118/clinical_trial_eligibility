{
 "cells": [
  {
   "cell_type": "markdown",
   "metadata": {},
   "source": [
    "# SQL to MongoDB ETL pipeline: Extract, Transform, Load"
   ]
  },
  {
   "cell_type": "markdown",
   "metadata": {},
   "source": [
    "## Import packages "
   ]
  },
  {
   "cell_type": "code",
   "execution_count": 86,
   "metadata": {},
   "outputs": [],
   "source": [
    "import psycopg2 as pg\n",
    "import pandas as pd\n",
    "import pandas.io.sql as pd_sql\n",
    "import pandas as pd\n",
    "import pickle\n",
    "import re\n",
    "import json\n",
    "from pymongo import MongoClient\n",
    "import sys"
   ]
  },
  {
   "cell_type": "markdown",
   "metadata": {},
   "source": [
    "## Create a login parameter file "
   ]
  },
  {
   "cell_type": "markdown",
   "metadata": {},
   "source": [
    "* Create an account on [AACT](https://aact.ctti-clinicaltrials.org/users/sign_up) to get access to the clinical trials database\n",
    "* Create a login.txt file with the database and login credentials formatted as below, adding in your specific username and password:\n",
    "\n",
    "`\n",
    "{\"host\": \"aact-db.ctti-clinicaltrials.org\", \"user\": \"username\", \"password\": \"password\", \"dbname\": \"aact\", \"port\": 5432}`\n",
    "\n",
    "* Save the login.txt file in the same directory as the python scripts/notebooks"
   ]
  },
  {
   "cell_type": "markdown",
   "metadata": {},
   "source": [
    "## Create functions for the SQL to MongoDB ETL pipeline"
   ]
  },
  {
   "cell_type": "markdown",
   "metadata": {},
   "source": [
    "### Cleaning functions: creating a dictionary (document) from a SQL record"
   ]
  },
  {
   "cell_type": "markdown",
   "metadata": {},
   "source": [
    "* The SQL cursor will return an unlabeled tuple, instead of a dataframe with labeled columns like a standard query would return. So I need to index the tuple based on where the information I want is based on the [AACT database schema](https://aact.ctti-clinicaltrials.org/static/documentation/aact_schema.png) \n",
    "* A different cleaning function will be specified for each SQL table queried from AACT\n",
    "* Cleaning functions will be referenced later in the pipeline function"
   ]
  },
  {
   "cell_type": "markdown",
   "metadata": {},
   "source": [
    "#### Eligibilities table cleaning function"
   ]
  },
  {
   "cell_type": "code",
   "execution_count": 82,
   "metadata": {},
   "outputs": [],
   "source": [
    "def clean_eligibility_record(record):\n",
    "    \n",
    "    \"\"\"Takes an AACT database read from an SQL cursor and produces a dictionary. \n",
    "    Removes new lines and extra spaces from eligibility criteria. \n",
    "    Returns a dictionary in document form to be sent to mongodb.\"\"\"\n",
    "    \n",
    "    document = {}\n",
    "    document['study_id'] = record[1]\n",
    "    document['minimum_age'] = record[4]\n",
    "    document['maximum_age'] = record[5]\n",
    "    document['gender'] = record[3]\n",
    "    \n",
    "    eligibility = record[8]\n",
    "    eligibility = eligibility.replace('\\n             ', ' ') \n",
    "    \n",
    "    # need to test if there is 'Exclusion Criteria:' in the dataset\n",
    "    # if there isn't Exclusion Criteria, don't have to split the eligibility\n",
    "    # could add if/else, or just next the record if there isn't exlusion criteria\n",
    "    \n",
    "    inclusion, exclusion = eligibility.split('Exclusion Criteria:')\n",
    "    regex = '-\\s\\s(.+)\\n\\n'\n",
    "    clean_inclusion = re.findall(regex, inclusion)\n",
    "    clean_exclusion = re.findall(regex, exclusion)\n",
    "    document['inclusion_criteria'] = clean_inclusion\n",
    "    document['exclusion_criteria'] = clean_exclusion\n",
    "    return document"
   ]
  },
  {
   "cell_type": "markdown",
   "metadata": {},
   "source": [
    "###  Add document to MongoDB function"
   ]
  },
  {
   "cell_type": "code",
   "execution_count": 83,
   "metadata": {},
   "outputs": [],
   "source": [
    "def send_to_mongodb(document, client_connection):\n",
    "    \n",
    "    \"\"\"Takes a dictionary in document form and sends it to a pre-specified database\n",
    "    and collection in mongodb. document is the document to enter into the database. \n",
    "    client_connection is an already opened connection with a MongoDB client pointing\n",
    "    to a specified location.\"\"\"\n",
    "    \n",
    "    mongo_result = client_connection.insert_one(document)\n",
    "    \n",
    "    if not mongo_result.acknowledged: \n",
    "        raise ValueError(\"Failed to add document to MongoDB. Check connection and document.\")"
   ]
  },
  {
   "cell_type": "markdown",
   "metadata": {},
   "source": [
    "###  SQL query to MongoDB pipeline function"
   ]
  },
  {
   "cell_type": "code",
   "execution_count": 84,
   "metadata": {},
   "outputs": [],
   "source": [
    "def sql_to_mongo(query, cleaning_func, login, database, collection):\n",
    "    \n",
    "    \"\"\"SQL to MongoDB pipeline. Retrieves single SQL record from a cursor, \n",
    "    converts it into a dictionary, and inputs that to MongoDB.\n",
    "    query is a SQL query. cleaning_func is the cleaning function to use.\n",
    "    login is a text file with the login parameters for the SQL database. \n",
    "    database and collections are strings of MongoDB locations.\"\"\"\n",
    "    \n",
    "    connection_args = json.load(open(login))\n",
    "    connection = pg.connect(**connection_args)\n",
    "    cursor = connection.cursor()\n",
    "    cursor.execute(query)\n",
    "    \n",
    "    client = MongoClient()\n",
    "    db = client[database]\n",
    "    mongo_loc = db[collection]\n",
    "    \n",
    "    for result in cursor:\n",
    "        document = cleaning_func(result)\n",
    "        send_to_mongodb(document, mongo_loc)\n",
    "        \n",
    "    connection.close()\n",
    "    client.close()"
   ]
  },
  {
   "cell_type": "markdown",
   "metadata": {},
   "source": [
    "## Test a query "
   ]
  },
  {
   "cell_type": "code",
   "execution_count": 85,
   "metadata": {},
   "outputs": [],
   "source": [
    "query = \"SELECT * FROM eligibilities LIMIT 3;\"\n",
    "\n",
    "sql_to_mongo(query, clean_eligibility_record, 'login.txt', 'testdb', 'trials')"
   ]
  },
  {
   "cell_type": "markdown",
   "metadata": {},
   "source": [
    "## Estimate average size of one document to determine whether to store the full set of 280k trials on local machine or AWS"
   ]
  },
  {
   "cell_type": "markdown",
   "metadata": {},
   "source": [
    "Below is broken: need to update cleaning function to deal with records that only have inclusion data. "
   ]
  },
  {
   "cell_type": "code",
   "execution_count": 89,
   "metadata": {},
   "outputs": [],
   "source": [
    "# query = \"SELECT * FROM eligibilities LIMIT 100;\"\n",
    "# sql_to_mongo(query, clean_eligibility_record, 'login.txt', 'file_size', 'trials')\n",
    "\n",
    "# pull 100 records - format as dictionaries, look at average size\n",
    "# sys.getsizeof"
   ]
  },
  {
   "cell_type": "markdown",
   "metadata": {},
   "source": [
    "## Additional error checking and production level aspects to add "
   ]
  },
  {
   "cell_type": "markdown",
   "metadata": {},
   "source": [
    "* Unit testing: check the output of the functions"
   ]
  }
 ],
 "metadata": {
  "kernelspec": {
   "display_name": "Python [default]",
   "language": "python",
   "name": "python3"
  },
  "language_info": {
   "codemirror_mode": {
    "name": "ipython",
    "version": 3
   },
   "file_extension": ".py",
   "mimetype": "text/x-python",
   "name": "python",
   "nbconvert_exporter": "python",
   "pygments_lexer": "ipython3",
   "version": "3.6.5"
  },
  "nbpresent": {
   "slides": {},
   "themes": {
    "default": "d7a55c8c-cd97-469a-a784-0ccb66cd95ac",
    "theme": {
     "d7a55c8c-cd97-469a-a784-0ccb66cd95ac": {
      "backgrounds": {
       "dc7afa04-bf90-40b1-82a5-726e3cff5267": {
        "background-color": "31af15d2-7e15-44c5-ab5e-e04b16a89eff",
        "id": "dc7afa04-bf90-40b1-82a5-726e3cff5267"
       }
      },
      "id": "d7a55c8c-cd97-469a-a784-0ccb66cd95ac",
      "palette": {
       "19cc588f-0593-49c9-9f4b-e4d7cc113b1c": {
        "id": "19cc588f-0593-49c9-9f4b-e4d7cc113b1c",
        "rgb": [
         252,
         252,
         252
        ]
       },
       "31af15d2-7e15-44c5-ab5e-e04b16a89eff": {
        "id": "31af15d2-7e15-44c5-ab5e-e04b16a89eff",
        "rgb": [
         68,
         68,
         68
        ]
       },
       "50f92c45-a630-455b-aec3-788680ec7410": {
        "id": "50f92c45-a630-455b-aec3-788680ec7410",
        "rgb": [
         197,
         226,
         245
        ]
       },
       "c5cc3653-2ee1-402a-aba2-7caae1da4f6c": {
        "id": "c5cc3653-2ee1-402a-aba2-7caae1da4f6c",
        "rgb": [
         43,
         126,
         184
        ]
       },
       "efa7f048-9acb-414c-8b04-a26811511a21": {
        "id": "efa7f048-9acb-414c-8b04-a26811511a21",
        "rgb": [
         25.118061674008803,
         73.60176211453744,
         107.4819383259912
        ]
       }
      },
      "rules": {
       "a": {
        "color": "19cc588f-0593-49c9-9f4b-e4d7cc113b1c"
       },
       "blockquote": {
        "color": "50f92c45-a630-455b-aec3-788680ec7410",
        "font-size": 3
       },
       "code": {
        "font-family": "Anonymous Pro"
       },
       "h1": {
        "color": "19cc588f-0593-49c9-9f4b-e4d7cc113b1c",
        "font-family": "Merriweather",
        "font-size": 8
       },
       "h2": {
        "color": "19cc588f-0593-49c9-9f4b-e4d7cc113b1c",
        "font-family": "Merriweather",
        "font-size": 6
       },
       "h3": {
        "color": "50f92c45-a630-455b-aec3-788680ec7410",
        "font-family": "Lato",
        "font-size": 5.5
       },
       "h4": {
        "color": "c5cc3653-2ee1-402a-aba2-7caae1da4f6c",
        "font-family": "Lato",
        "font-size": 5
       },
       "h5": {
        "font-family": "Lato"
       },
       "h6": {
        "font-family": "Lato"
       },
       "h7": {
        "font-family": "Lato"
       },
       "li": {
        "color": "50f92c45-a630-455b-aec3-788680ec7410",
        "font-size": 3.25
       },
       "pre": {
        "font-family": "Anonymous Pro",
        "font-size": 4
       }
      },
      "text-base": {
       "color": "19cc588f-0593-49c9-9f4b-e4d7cc113b1c",
       "font-family": "Lato",
       "font-size": 4
      }
     }
    }
   }
  }
 },
 "nbformat": 4,
 "nbformat_minor": 2
}

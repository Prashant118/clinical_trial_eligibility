{
 "cells": [
  {
   "cell_type": "markdown",
   "metadata": {},
   "source": [
    "# NLP Pipeline "
   ]
  },
  {
   "cell_type": "code",
   "execution_count": 35,
   "metadata": {},
   "outputs": [],
   "source": [
    "from pymongo import MongoClient\n",
    "import re\n",
    "import string\n",
    "from sklearn.feature_extraction.text import CountVectorizer\n",
    "from nltk.tokenize import TreebankWordTokenizer\n",
    "from nltk.stem import PorterStemmer"
   ]
  },
  {
   "cell_type": "markdown",
   "metadata": {},
   "source": [
    "## Connect to the Mongo clinical_trials database "
   ]
  },
  {
   "cell_type": "code",
   "execution_count": 2,
   "metadata": {},
   "outputs": [],
   "source": [
    "def connect_to_mongo(database, collection):\n",
    "    \n",
    "    \"\"\"\n",
    "    Opens a connection to a specified Mongo DB location\n",
    "    \n",
    "    Input Parameters:\n",
    "    database: name of database to connect to or create (str)\n",
    "    collection: name of collection to connect to or create (str)\n",
    "    \n",
    "    Returns:\n",
    "    The connection object for the database without a collection specified\n",
    "    The connection object for a specific Mongo location (database & collection)\n",
    "    \"\"\"\n",
    "    \n",
    "    client = MongoClient()\n",
    "    db = client[database]\n",
    "    mongo_loc = db[collection]\n",
    "    return db, mongo_loc"
   ]
  },
  {
   "cell_type": "code",
   "execution_count": 3,
   "metadata": {},
   "outputs": [],
   "source": [
    "trials_loc, eligibility_loc = connect_to_mongo('clinical_trials', 'eligibilities')"
   ]
  },
  {
   "cell_type": "markdown",
   "metadata": {},
   "source": [
    "### Create a Mongo cursor "
   ]
  },
  {
   "cell_type": "code",
   "execution_count": 61,
   "metadata": {},
   "outputs": [],
   "source": [
    "doc_cursor = eligibility_loc.find()"
   ]
  },
  {
   "cell_type": "code",
   "execution_count": 62,
   "metadata": {},
   "outputs": [],
   "source": [
    "test_docs = doc_cursor[0:1]"
   ]
  },
  {
   "cell_type": "code",
   "execution_count": 63,
   "metadata": {},
   "outputs": [
    {
     "name": "stdout",
     "output_type": "stream",
     "text": [
      "{'_id': ObjectId('5b734462aded604ea198f141'), 'study_id': 'NCT00864942', 'minimum_age': '18 Years', 'maximum_age': 'N/A', 'gender': 'All', 'inclusion_criteria': ['Documented relapsed or refractory B-cell NHL; CD-20 positive tumor. Indolent NHL: follicular B-cell lymphoma, diffuse small lymphocytic lymphoma, lymphoplasmacytic lymphoma, marginal zone lymphoma, transformed aggressive lymphomas, mantle cell lymphoma and chronic lymphocytic leukemia', 'Maximum of 6 prior chemotherapy regimens. Prior rituximab is allowed.', 'Bidimensionally measurable disease', 'ECOG performance status 0-2', 'Absolute neutrophil count >/= 1000 and platelet count >/= 50,000', 'Serum creatinine </= 1.5 mg/dL', 'Adequate hepatic function', 'Estimated life expectancy of at least 3 months', 'All study participants must be registered into the mandatory RevAssist program and be willing and able to comply with the requirements of RevAssist', 'Able to take aspirin 81 mg daily as prophylactic anticoagulation'], 'exclusion_criteria': ['Chemotherapy or immunotherapy within 3 weeks prior to entering study or failure to recover from adverse events due to any agents administered previously', 'Use of investigational agents within 28 days of study', 'Hematopoietic growth factors within 14 days of study', 'History of prior high dose chemotherapy with allogeneic stem cell support', 'History of prior radioimmunotherapy </= 1 year', 'Concurrent treatment with therapeutic doses of systemic steroids', 'Pregnant or lactating female subjects', 'Concurrent, active malignancy other than lymphoma or CLL', 'Primary CNS lymphoma', 'Patients with a prior diagnosis of lymphoma active in the CNS are eligible only if CNS has been treated, and they are neurologically stable with no progressive symptoms off steroids and anti-convulsants', 'Serious infection, medical condition, or psychiatric condition that, in the opinion of the investigator, might interfere with the achievement of study objectives', 'Hypersensitivity to murine proteins or to any component of rituximab', 'Known positive for HIV or infectious hepatitis type C; hepatitis type B that is active and uncontrolled', 'Hypersensitivity to mannitol', 'Evidence of laboratory tumor lysis syndrome by Cairo-Bishop criteria']}\n"
     ]
    }
   ],
   "source": [
    "print(test_docs[0])"
   ]
  },
  {
   "cell_type": "markdown",
   "metadata": {},
   "source": [
    "## Clean the text "
   ]
  },
  {
   "cell_type": "markdown",
   "metadata": {},
   "source": [
    "1. get the doc\n",
    "2. decide how to segment the eligibility data - first pass, try to do all inclusion data for a study as one entry, all exclusion data for a study as an entry. This might require concatenating all the elements in the inclusion_criteria into one long element:  \n",
    "`\" \".join(my_list)`\n",
    "3. separately clean inclusion_criteria and exclusion_criteria\n",
    "4. add the cleaned_inclusion_criteria and cleaned_exclusion_criteria as part of that doc record - find it by the study_id"
   ]
  },
  {
   "cell_type": "code",
   "execution_count": 64,
   "metadata": {},
   "outputs": [],
   "source": [
    "for doc in test_docs: \n",
    "    inclusion_text = \" \".join(doc['inclusion_criteria'])\n",
    "    exclusion_text = \" \".join(doc['exclusion_criteria'])\n",
    "    no_punc_inclusion = inclusion_text.translate(str.maketrans('','',string.punctuation))\n",
    "    # need to remove double white spaces\n",
    "    # need to remove stand-alone numbers (will keep in genetic markers like cd20)\n",
    "    # just focus on inclusion_text for now\n",
    "    # remove stop words\n",
    "    inclusion_tokens = no_punc_inclusion.split(' ')"
   ]
  },
  {
   "cell_type": "code",
   "execution_count": 65,
   "metadata": {},
   "outputs": [
    {
     "data": {
      "text/plain": [
       "['Documented',\n",
       " 'relapsed',\n",
       " 'or',\n",
       " 'refractory',\n",
       " 'Bcell',\n",
       " 'NHL',\n",
       " 'CD20',\n",
       " 'positive',\n",
       " 'tumor',\n",
       " 'Indolent',\n",
       " 'NHL',\n",
       " 'follicular',\n",
       " 'Bcell',\n",
       " 'lymphoma',\n",
       " 'diffuse',\n",
       " 'small',\n",
       " 'lymphocytic',\n",
       " 'lymphoma',\n",
       " 'lymphoplasmacytic',\n",
       " 'lymphoma',\n",
       " 'marginal',\n",
       " 'zone',\n",
       " 'lymphoma',\n",
       " 'transformed',\n",
       " 'aggressive',\n",
       " 'lymphomas',\n",
       " 'mantle',\n",
       " 'cell',\n",
       " 'lymphoma',\n",
       " 'and',\n",
       " 'chronic',\n",
       " 'lymphocytic',\n",
       " 'leukemia',\n",
       " 'Maximum',\n",
       " 'of',\n",
       " '6',\n",
       " 'prior',\n",
       " 'chemotherapy',\n",
       " 'regimens',\n",
       " 'Prior',\n",
       " 'rituximab',\n",
       " 'is',\n",
       " 'allowed',\n",
       " 'Bidimensionally',\n",
       " 'measurable',\n",
       " 'disease',\n",
       " 'ECOG',\n",
       " 'performance',\n",
       " 'status',\n",
       " '02',\n",
       " 'Absolute',\n",
       " 'neutrophil',\n",
       " 'count',\n",
       " '',\n",
       " '1000',\n",
       " 'and',\n",
       " 'platelet',\n",
       " 'count',\n",
       " '',\n",
       " '50000',\n",
       " 'Serum',\n",
       " 'creatinine',\n",
       " '',\n",
       " '15',\n",
       " 'mgdL',\n",
       " 'Adequate',\n",
       " 'hepatic',\n",
       " 'function',\n",
       " 'Estimated',\n",
       " 'life',\n",
       " 'expectancy',\n",
       " 'of',\n",
       " 'at',\n",
       " 'least',\n",
       " '3',\n",
       " 'months',\n",
       " 'All',\n",
       " 'study',\n",
       " 'participants',\n",
       " 'must',\n",
       " 'be',\n",
       " 'registered',\n",
       " 'into',\n",
       " 'the',\n",
       " 'mandatory',\n",
       " 'RevAssist',\n",
       " 'program',\n",
       " 'and',\n",
       " 'be',\n",
       " 'willing',\n",
       " 'and',\n",
       " 'able',\n",
       " 'to',\n",
       " 'comply',\n",
       " 'with',\n",
       " 'the',\n",
       " 'requirements',\n",
       " 'of',\n",
       " 'RevAssist',\n",
       " 'Able',\n",
       " 'to',\n",
       " 'take',\n",
       " 'aspirin',\n",
       " '81',\n",
       " 'mg',\n",
       " 'daily',\n",
       " 'as',\n",
       " 'prophylactic',\n",
       " 'anticoagulation']"
      ]
     },
     "execution_count": 65,
     "metadata": {},
     "output_type": "execute_result"
    }
   ],
   "source": [
    "inclusion_tokens"
   ]
  },
  {
   "cell_type": "code",
   "execution_count": 68,
   "metadata": {},
   "outputs": [],
   "source": [
    "cleaned_inclusion = []\n",
    "stemmer = PorterStemmer()\n",
    "for token in inclusion_tokens: \n",
    "    low_word = token.lower()\n",
    "    low_stem = stemmer.stem(low_word)\n",
    "    cleaned_inclusion.append(low_stem)"
   ]
  },
  {
   "cell_type": "code",
   "execution_count": 69,
   "metadata": {},
   "outputs": [
    {
     "data": {
      "text/plain": [
       "['document',\n",
       " 'relaps',\n",
       " 'or',\n",
       " 'refractori',\n",
       " 'bcell',\n",
       " 'nhl',\n",
       " 'cd20',\n",
       " 'posit',\n",
       " 'tumor',\n",
       " 'indol',\n",
       " 'nhl',\n",
       " 'follicular',\n",
       " 'bcell',\n",
       " 'lymphoma',\n",
       " 'diffus',\n",
       " 'small',\n",
       " 'lymphocyt',\n",
       " 'lymphoma',\n",
       " 'lymphoplasmacyt',\n",
       " 'lymphoma',\n",
       " 'margin',\n",
       " 'zone',\n",
       " 'lymphoma',\n",
       " 'transform',\n",
       " 'aggress',\n",
       " 'lymphoma',\n",
       " 'mantl',\n",
       " 'cell',\n",
       " 'lymphoma',\n",
       " 'and',\n",
       " 'chronic',\n",
       " 'lymphocyt',\n",
       " 'leukemia',\n",
       " 'maximum',\n",
       " 'of',\n",
       " '6',\n",
       " 'prior',\n",
       " 'chemotherapi',\n",
       " 'regimen',\n",
       " 'prior',\n",
       " 'rituximab',\n",
       " 'is',\n",
       " 'allow',\n",
       " 'bidimension',\n",
       " 'measur',\n",
       " 'diseas',\n",
       " 'ecog',\n",
       " 'perform',\n",
       " 'statu',\n",
       " '02',\n",
       " 'absolut',\n",
       " 'neutrophil',\n",
       " 'count',\n",
       " '',\n",
       " '1000',\n",
       " 'and',\n",
       " 'platelet',\n",
       " 'count',\n",
       " '',\n",
       " '50000',\n",
       " 'serum',\n",
       " 'creatinin',\n",
       " '',\n",
       " '15',\n",
       " 'mgdl',\n",
       " 'adequ',\n",
       " 'hepat',\n",
       " 'function',\n",
       " 'estim',\n",
       " 'life',\n",
       " 'expect',\n",
       " 'of',\n",
       " 'at',\n",
       " 'least',\n",
       " '3',\n",
       " 'month',\n",
       " 'all',\n",
       " 'studi',\n",
       " 'particip',\n",
       " 'must',\n",
       " 'be',\n",
       " 'regist',\n",
       " 'into',\n",
       " 'the',\n",
       " 'mandatori',\n",
       " 'revassist',\n",
       " 'program',\n",
       " 'and',\n",
       " 'be',\n",
       " 'will',\n",
       " 'and',\n",
       " 'abl',\n",
       " 'to',\n",
       " 'compli',\n",
       " 'with',\n",
       " 'the',\n",
       " 'requir',\n",
       " 'of',\n",
       " 'revassist',\n",
       " 'abl',\n",
       " 'to',\n",
       " 'take',\n",
       " 'aspirin',\n",
       " '81',\n",
       " 'mg',\n",
       " 'daili',\n",
       " 'as',\n",
       " 'prophylact',\n",
       " 'anticoagul']"
      ]
     },
     "execution_count": 69,
     "metadata": {},
     "output_type": "execute_result"
    }
   ],
   "source": [
    "cleaned_inclusion"
   ]
  },
  {
   "cell_type": "code",
   "execution_count": 50,
   "metadata": {},
   "outputs": [],
   "source": [
    "test_token = inclusion_tokens[5]"
   ]
  },
  {
   "cell_type": "code",
   "execution_count": 16,
   "metadata": {},
   "outputs": [],
   "source": [
    "doc_cursor.close()"
   ]
  },
  {
   "cell_type": "markdown",
   "metadata": {},
   "source": [
    "# Next steps "
   ]
  },
  {
   "cell_type": "markdown",
   "metadata": {},
   "source": [
    "## Improving the pipeline "
   ]
  },
  {
   "cell_type": "markdown",
   "metadata": {},
   "source": [
    "* Refactor `connect_to_mongo()` function so we don't have to reconnect when switching databases (might be able to pull this into other functions later on)"
   ]
  },
  {
   "cell_type": "markdown",
   "metadata": {},
   "source": [
    "## Error checking and production aspects to add   "
   ]
  },
  {
   "cell_type": "markdown",
   "metadata": {},
   "source": [
    "* Error messages\n",
    "* docstrings\n",
    "* create functions\n",
    "* comments to explain hard-coding choices or why an approach was used"
   ]
  }
 ],
 "metadata": {
  "kernelspec": {
   "display_name": "Python [default]",
   "language": "python",
   "name": "python3"
  },
  "language_info": {
   "codemirror_mode": {
    "name": "ipython",
    "version": 3
   },
   "file_extension": ".py",
   "mimetype": "text/x-python",
   "name": "python",
   "nbconvert_exporter": "python",
   "pygments_lexer": "ipython3",
   "version": "3.6.5"
  }
 },
 "nbformat": 4,
 "nbformat_minor": 2
}

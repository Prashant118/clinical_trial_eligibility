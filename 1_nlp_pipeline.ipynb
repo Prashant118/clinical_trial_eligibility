{
 "cells": [
  {
   "cell_type": "markdown",
   "metadata": {},
   "source": [
    "# NLP Pipeline "
   ]
  },
  {
   "cell_type": "code",
   "execution_count": 3,
   "metadata": {},
   "outputs": [],
   "source": [
    "from pymongo import MongoClient\n",
    "import re\n",
    "import string"
   ]
  },
  {
   "cell_type": "markdown",
   "metadata": {},
   "source": [
    "## Connect to the Mongo clinical_trials database "
   ]
  },
  {
   "cell_type": "code",
   "execution_count": 10,
   "metadata": {},
   "outputs": [],
   "source": [
    "def connect_to_mongo(database, collection):\n",
    "    \n",
    "    \"\"\"\n",
    "    Opens a connection to a specified Mongo DB location\n",
    "    \n",
    "    Input Parameters:\n",
    "    database: name of database to connect to or create (str)\n",
    "    collection: name of collection to connect to or create (str)\n",
    "    \n",
    "    Returns:\n",
    "    The connection object for the database without a collection specified\n",
    "    The connection object for a specific Mongo location (database & collection)\n",
    "    \"\"\"\n",
    "    \n",
    "    client = MongoClient()\n",
    "    db = client[database]\n",
    "    mongo_loc = db[collection]\n",
    "    return db, mongo_loc"
   ]
  },
  {
   "cell_type": "code",
   "execution_count": 11,
   "metadata": {},
   "outputs": [],
   "source": [
    "trials_loc, eligibility_loc = connect_to_mongo('clinical_trials', 'eligibilities')"
   ]
  },
  {
   "cell_type": "markdown",
   "metadata": {},
   "source": [
    "### Create a Mongo cursor "
   ]
  },
  {
   "cell_type": "code",
   "execution_count": 13,
   "metadata": {},
   "outputs": [],
   "source": [
    "doc_cursor = eligibility_loc.find()"
   ]
  },
  {
   "cell_type": "code",
   "execution_count": 14,
   "metadata": {},
   "outputs": [
    {
     "name": "stdout",
     "output_type": "stream",
     "text": [
      "{'_id': ObjectId('5b734462aded604ea198f141'), 'study_id': 'NCT00864942', 'minimum_age': '18 Years', 'maximum_age': 'N/A', 'gender': 'All', 'inclusion_criteria': ['Documented relapsed or refractory B-cell NHL; CD-20 positive tumor. Indolent NHL: follicular B-cell lymphoma, diffuse small lymphocytic lymphoma, lymphoplasmacytic lymphoma, marginal zone lymphoma, transformed aggressive lymphomas, mantle cell lymphoma and chronic lymphocytic leukemia', 'Maximum of 6 prior chemotherapy regimens. Prior rituximab is allowed.', 'Bidimensionally measurable disease', 'ECOG performance status 0-2', 'Absolute neutrophil count >/= 1000 and platelet count >/= 50,000', 'Serum creatinine </= 1.5 mg/dL', 'Adequate hepatic function', 'Estimated life expectancy of at least 3 months', 'All study participants must be registered into the mandatory RevAssist program and be willing and able to comply with the requirements of RevAssist', 'Able to take aspirin 81 mg daily as prophylactic anticoagulation'], 'exclusion_criteria': ['Chemotherapy or immunotherapy within 3 weeks prior to entering study or failure to recover from adverse events due to any agents administered previously', 'Use of investigational agents within 28 days of study', 'Hematopoietic growth factors within 14 days of study', 'History of prior high dose chemotherapy with allogeneic stem cell support', 'History of prior radioimmunotherapy </= 1 year', 'Concurrent treatment with therapeutic doses of systemic steroids', 'Pregnant or lactating female subjects', 'Concurrent, active malignancy other than lymphoma or CLL', 'Primary CNS lymphoma', 'Patients with a prior diagnosis of lymphoma active in the CNS are eligible only if CNS has been treated, and they are neurologically stable with no progressive symptoms off steroids and anti-convulsants', 'Serious infection, medical condition, or psychiatric condition that, in the opinion of the investigator, might interfere with the achievement of study objectives', 'Hypersensitivity to murine proteins or to any component of rituximab', 'Known positive for HIV or infectious hepatitis type C; hepatitis type B that is active and uncontrolled', 'Hypersensitivity to mannitol', 'Evidence of laboratory tumor lysis syndrome by Cairo-Bishop criteria']}\n"
     ]
    }
   ],
   "source": [
    "print(doc_cursor[0])"
   ]
  },
  {
   "cell_type": "markdown",
   "metadata": {},
   "source": [
    "## Clean the text "
   ]
  },
  {
   "cell_type": "markdown",
   "metadata": {},
   "source": [
    "1. get the doc\n",
    "2. decide how to segment the eligibility data - first pass, try to do all inclusion data for a study as one entry, all exclusion data for a study as an entry. This might require concatenating all the elements in the inclusion_criteria into one long element:  \n",
    "`\" \".join(my_list)`\n",
    "3. separately clean inclusion_criteria and exclusion_criteria\n",
    "4. add the cleaned_inclusion_criteria and cleaned_exclusion_criteria as part of that doc record - find it by the study_id"
   ]
  },
  {
   "cell_type": "code",
   "execution_count": 15,
   "metadata": {},
   "outputs": [],
   "source": [
    "# for doc in cursor:"
   ]
  },
  {
   "cell_type": "code",
   "execution_count": 16,
   "metadata": {},
   "outputs": [],
   "source": [
    "doc_cursor.close()"
   ]
  },
  {
   "cell_type": "markdown",
   "metadata": {},
   "source": [
    "# Next steps "
   ]
  },
  {
   "cell_type": "markdown",
   "metadata": {},
   "source": [
    "## Improving the pipeline "
   ]
  },
  {
   "cell_type": "markdown",
   "metadata": {},
   "source": [
    "* Refactor `connect_to_mongo()` function so we don't have to reconnect when switching databases (might be able to pull this into other functions later on)"
   ]
  },
  {
   "cell_type": "markdown",
   "metadata": {},
   "source": [
    "## Error checking and production aspects to add   "
   ]
  },
  {
   "cell_type": "markdown",
   "metadata": {},
   "source": [
    "* Error messages\n",
    "* docstrings\n",
    "* create functions\n",
    "* comments to explain hard-coding choices or why an approach was used"
   ]
  }
 ],
 "metadata": {
  "kernelspec": {
   "display_name": "Python [default]",
   "language": "python",
   "name": "python3"
  },
  "language_info": {
   "codemirror_mode": {
    "name": "ipython",
    "version": 3
   },
   "file_extension": ".py",
   "mimetype": "text/x-python",
   "name": "python",
   "nbconvert_exporter": "python",
   "pygments_lexer": "ipython3",
   "version": "3.6.5"
  }
 },
 "nbformat": 4,
 "nbformat_minor": 2
}
